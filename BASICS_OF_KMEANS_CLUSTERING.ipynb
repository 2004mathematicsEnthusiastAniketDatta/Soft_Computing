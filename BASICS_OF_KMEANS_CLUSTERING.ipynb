{
 "cells": [
  {
   "cell_type": "code",
   "execution_count": 87,
   "id": "6bc9ce11",
   "metadata": {},
   "outputs": [
    {
     "name": "stdout",
     "output_type": "stream",
     "text": [
      "[[185  75]\n",
      " [170  56]\n",
      " [168  60]\n",
      " [179  68]\n",
      " [182  72]\n",
      " [188  79]]\n",
      "[0 1 1 0 0 0]\n",
      "[[183.5  73.5]\n",
      " [169.   58. ]]\n",
      "120.0\n",
      "2\n",
      "2\n",
      "['kmeans0' 'kmeans1']\n"
     ]
    },
    {
     "data": {
      "image/png": "[encoded data removed]",
      "text/plain": [
       "<Figure size 640x480 with 1 Axes>"
      ]
     },
     "metadata": {},
     "output_type": "display_data"
    }
   ],
   "source": [
    "import numpy as np\n",
    "import pandas as pd\n",
    "from sklearn.cluster import KMeans\n",
    "import matplotlib.pyplot as plt\n",
    "# data=pd.read_csv('IRIS.csv')\n",
    "# #classname: species\n",
    "# data['species']\n",
    "# #how many data points are avilable for each class\n",
    "# data['species'].value_counts() \n",
    "\n",
    "# #classified the data according to the classes \n",
    "# iris_setosa = data.loc[data['species'] == 'Iris-setosa']\n",
    "# iris_versicolor = data.loc[data['species'] == 'Iris-versicolor']\n",
    "# iris_virginica = data.loc[data['species'] == 'Iris-virginica']\n",
    "\n",
    "# print([iris_setosa.values])\n",
    "# print([iris_versicolor.values])\n",
    "# print([iris_virginica.values])\n",
    "\n",
    "#dropping species name\n",
    "# data = data.drop(['species'],axis=1)\n",
    "# print(data)\n",
    "# obj1=[[data['sepal_length'],data['sepal_width']],[data['petal_length'],data['petal_width']]]\n",
    "# print(obj1)\n",
    " \n",
    "#dropping strings\n",
    "# iris_setosa=iris_setosa.drop(['species'],axis=1)\n",
    "# iris_versicolor=iris_versicolor.drop(['species'],axis=1)\n",
    "# iris_virginica=iris_virginica.drop(['species'],axis=1)\n",
    "\n",
    "# converting object to numpy array\n",
    "# arr1=np.array([iris_setosa,iris_versicolor])\n",
    "# print(type(arr1))\n",
    "# print(arr1)\n",
    "\n",
    "#Some user-defined array for algorithm\n",
    "X=np.array([[185,75],[170,56],[168,60],[179,68],[182,72],[188,79]])\n",
    "print(X)\n",
    "\n",
    "#variable for kmeans\n",
    "kmeans = KMeans(n_clusters=2,init='k-means++',n_init='auto',random_state=0)\n",
    "#Estimator for the data is fitted to perform the K-Means Clustering\n",
    "kmeans.fit(X)\n",
    "#the data after grouping needs to be present in either first or second cluster , assumin first cluster is labelled as 0 \n",
    "#and the second cluster is labelled as 1\n",
    "labels=kmeans.labels_ \n",
    "print(labels)\n",
    "#centres of k_means clusters\n",
    "kmeans_clusters_centers = kmeans.cluster_centers_\n",
    "print(kmeans_clusters_centers)\n",
    "#WCSS within clusters, sum of squares\n",
    "#Sum of squared distances of samples to their closest cluster center,weighted by the sample weights (if provided)\n",
    "print(kmeans.inertia_)\n",
    "\n",
    "#printing number of iterations\n",
    "print(kmeans.n_iter_)\n",
    "#printing number of features seen during fit\n",
    "print(kmeans.n_features_in_)\n",
    "#printing number of teatures names out\n",
    "print(kmeans.get_feature_names_out())\n",
    "#scatter plot\n",
    "plt.scatter(X[:,0],X[:,1],c=labels)\n",
    "plt.show()"
   ]
  },
  {
   "cell_type": "code",
   "execution_count": null,
   "id": "f9197e6b",
   "metadata": {},
   "outputs": [],
   "source": []
  },
  {
   "cell_type": "code",
   "execution_count": null,
   "id": "882d91c2",
   "metadata": {},
   "outputs": [],
   "source": []
  }
 ],
 "metadata": {
  "kernelspec": {
   "display_name": "Python 3 (ipykernel)",
   "language": "python",
   "name": "python3"
  },
  "language_info": {
   "codemirror_mode": {
    "name": "ipython",
    "version": 3
   },
   "file_extension": ".py",
   "mimetype": "text/x-python",
   "name": "python",
   "nbconvert_exporter": "python",
   "pygments_lexer": "ipython3",
   "version": "3.11.2"
  }
 },
 "nbformat": 4,
 "nbformat_minor": 5
}
