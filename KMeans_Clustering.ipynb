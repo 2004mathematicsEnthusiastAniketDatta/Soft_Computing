{
 "cells": [
  {
   "cell_type": "code",
   "execution_count": 28,
   "id": "98ae4c5f",
   "metadata": {},
   "outputs": [
    {
     "name": "stdout",
     "output_type": "stream",
     "text": [
      "   S.No.  customerid  Age  Education  Years    Address  Income\n",
      "0      1         101   25  Bachelors      2   Address1   30000\n",
      "1      2         102   34    Masters      3   Address2   45000\n",
      "2      3         103   29       Ph.D      5   Address3   50000\n",
      "3      4         104   45  Bachelors     10   Address4   75000\n",
      "4      5         105   40    Masters     15   Address5   80000\n",
      "5      6         106   26    Masters     41   Address6  150000\n",
      "6      7         107   28       Ph.D      8   Address7   60000\n",
      "7      8         108   30  Bachelors     12   Address8   90000\n",
      "8      9         109   52    Masters     18   Address9   95000\n",
      "9     10         110   45  Bachelors     24  Address10  125000\n",
      "   S.No.  customerid  Age  Education  Years  Income\n",
      "0      1         101   25  Bachelors      2   30000\n",
      "1      2         102   34    Masters      3   45000\n",
      "2      3         103   29       Ph.D      5   50000\n",
      "3      4         104   45  Bachelors     10   75000\n",
      "4      5         105   40    Masters     15   80000\n",
      "5      6         106   26    Masters     41  150000\n",
      "6      7         107   28       Ph.D      8   60000\n",
      "7      8         108   30  Bachelors     12   90000\n",
      "8      9         109   52    Masters     18   95000\n",
      "9     10         110   45  Bachelors     24  125000\n",
      "   S.No.  customerid  Age  Education  Years  Income\n",
      "0      1         101   25          1      2   30000\n",
      "1      2         102   34          2      3   45000\n",
      "2      3         103   29          3      5   50000\n",
      "3      4         104   45          1     10   75000\n",
      "4      5         105   40          2     15   80000\n",
      "5      6         106   26          2     41  150000\n",
      "6      7         107   28          3      8   60000\n",
      "7      8         108   30          1     12   90000\n",
      "8      9         109   52          2     18   95000\n",
      "9     10         110   45          1     24  125000\n",
      "['Age', 'Education', 'Years', 'Income']\n",
      "[[-1.1595709  -1.06904497 -1.05643875 -1.42566487]\n",
      " [-0.15609608  0.26726124 -0.96691005 -0.99796541]\n",
      " [-0.71358209  1.60356745 -0.78785263 -0.85539892]\n",
      " [ 1.07037314 -1.06904497 -0.34020909 -0.14256649]\n",
      " [ 0.51288713  0.26726124  0.10743445  0.        ]\n",
      " [-1.0480737   0.26726124  2.43518086  1.99593082]\n",
      " [-0.82507929  1.60356745 -0.51926651 -0.57026595]\n",
      " [-0.60208489 -1.06904497 -0.16115167  0.28513297]\n",
      " [ 1.85085355  0.26726124  0.37602057  0.42769946]\n",
      " [ 1.07037314 -1.06904497  0.91319282  1.28309838]]\n"
     ]
    }
   ],
   "source": [
    "#Libraries\n",
    "import numpy as np\n",
    "import pandas as pd\n",
    "import matplotlib.pyplot as plt\n",
    "from sklearn.preprocessing import StandardScaler\n",
    "from sklearn.cluster import KMeans\n",
    "\n",
    "#loading the data\n",
    "\n",
    "df=pd.read_csv('//home//aniketdatta//Desktop//Python-main//DataScience_AIML//customer.csv')\n",
    "print(df)\n",
    "\n",
    "#Dropping the column 'Address'\n",
    "\n",
    "df=df.drop('Address',axis=1)\n",
    "print(df)\n",
    "\n",
    "#mapping the elements of the Education column to numbers\n",
    "\n",
    "df['Education']=df['Education'].map({\"Bachelors\":1,\"Masters\":2,\"Ph.D\":3})\n",
    "print(df)\n",
    "\n",
    "#features\n",
    "features=['Age','Education','Years','Income']\n",
    "print(features)\n",
    "#Scaling/Normalising  the data with Mean=0 and Standard Deviation =1\n",
    "scaler=StandardScaler()\n",
    "scaled_features=scaler.fit_transform(df[features])\n",
    "print(scaled_features)\n"
   ]
  },
  {
   "cell_type": "code",
   "execution_count": 39,
   "id": "82d508f7",
   "metadata": {},
   "outputs": [
    {
     "name": "stdout",
     "output_type": "stream",
     "text": [
      "10.77246136154552\n",
      "[2 2 2 3 1 0 2 3 1 1]\n"
     ]
    },
    {
     "data": {
      "image/png": "[encoded data removed]",
      "text/plain": [
       "<Figure size 640x480 with 1 Axes>"
      ]
     },
     "metadata": {},
     "output_type": "display_data"
    }
   ],
   "source": [
    "#perform KMeans Clustering\n",
    "kmeans=KMeans(n_clusters=4,init='k-means++',n_init='auto',random_state=0)\n",
    "kmeans.fit(scaled_features)\n",
    "print(kmeans.inertia_)\n",
    "labels=kmeans.labels_\n",
    "print(labels)\n",
    "df['Cluster']=labels\n",
    "\n",
    "df.to_csv('customer_cluseterd.csv',index=False)\n",
    "\n",
    "plt.scatter(scaled_features[:,0],scaled_features[:,1],c=labels)\n",
    "plt.show()"
   ]
  },
  {
   "cell_type": "code",
   "execution_count": null,
   "id": "ea5788cc",
   "metadata": {},
   "outputs": [],
   "source": []
  }
 ],
 "metadata": {
  "kernelspec": {
   "display_name": "Python 3 (ipykernel)",
   "language": "python",
   "name": "python3"
  },
  "language_info": {
   "codemirror_mode": {
    "name": "ipython",
    "version": 3
   },
   "file_extension": ".py",
   "mimetype": "text/x-python",
   "name": "python",
   "nbconvert_exporter": "python",
   "pygments_lexer": "ipython3",
   "version": "3.11.2"
  }
 },
 "nbformat": 4,
 "nbformat_minor": 5
}
